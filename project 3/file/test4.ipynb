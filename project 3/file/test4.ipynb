{
 "cells": [
  {
   "cell_type": "code",
   "execution_count": 4,
   "metadata": {},
   "outputs": [
    {
     "name": "stdout",
     "output_type": "stream",
     "text": [
      "{0: 0, 1: 1, 2: 2, 3: 2, 4: 3, 5: 4, 6: 5, 7: 4, 8: 5, 10: 4, 11: 5}\n"
     ]
    }
   ],
   "source": [
    "from collections import deque\n",
    "import pickle\n",
    "def select_root_with_minimum_m(G, k):\n",
    "    m_values = {}\n",
    "    \n",
    "    for v in range(len(G)):\n",
    "        m_v = 0\n",
    "        while len(get_N_h(G, v, m_v)) < k:\n",
    "            m_v += 1\n",
    "        m_values[v] = m_v\n",
    "    return min(m_values, key=m_values.get)\n",
    "\n",
    "def children_of(G, v, visited):\n",
    "    return [node for node in G[v] if node not in visited]\n",
    "\n",
    "def get_N_h(G, v, h):\n",
    "    visited = set()\n",
    "    queue = deque([(v, 0)])\n",
    "\n",
    "    while queue:\n",
    "        node, depth = queue.popleft()\n",
    "        if node not in visited:\n",
    "            visited.add(node)\n",
    "            if depth < h:\n",
    "                for neighbor in G[node]:\n",
    "                    if neighbor not in visited:\n",
    "                        queue.append((neighbor, depth + 1))\n",
    "    return visited\n",
    "\n",
    "\n",
    "def tree_node_labelling(G, k):\n",
    "    def label_impact(v, label):\n",
    "        neighbors = get_N_h(G, v, 1)\n",
    "        impact = sum(1 for u in neighbors if labels_assigned.get(u, -1) == label)\n",
    "        return impact\n",
    "\n",
    "    K = list(range(k))\n",
    "    r = select_root_with_minimum_m(G, k)\n",
    "    BFS_queue = deque([(r, [])])\n",
    "    labels_assigned = {}\n",
    "    labels_used = [False] * len(K)\n",
    "\n",
    "    while BFS_queue:\n",
    "        v, visited = BFS_queue.popleft()\n",
    "\n",
    "        if all(labels_used):\n",
    "            labels_used = [False] * len(K)\n",
    "\n",
    "        if v != r:\n",
    "            m_v = 0\n",
    "            while len(get_N_h(G, v, m_v)) < k:\n",
    "                m_v += 1\n",
    "            available_labels = list(set(K) - set(labels_assigned.get(u, -1) for u in get_N_h(G, v, m_v)))\n",
    "        else:\n",
    "            available_labels = K.copy()\n",
    "\n",
    "        sorted_labels = sorted(available_labels, key=lambda x: label_impact(v, x), reverse=True)\n",
    "        for label in sorted_labels:\n",
    "            if label not in [labels_assigned.get(u, -1) for u in get_N_h(G, v, 1)]:\n",
    "                labels_assigned[v] = label\n",
    "                labels_used[K.index(label)] = True\n",
    "                break\n",
    "\n",
    "        visited.append(v)\n",
    "        for child in children_of(G, v, visited):\n",
    "            BFS_queue.append((child, visited.copy()))\n",
    "\n",
    "    return labels_assigned\n",
    "\n",
    "\n",
    "tree = [[1, 2], [0, 3, 4], [0, 5, 6], [1, 7, 8, 9], [1, 10, 11], [2], [2], [3], [3], [3], [4], [4]]\n",
    "k = 6\n",
    "\n",
    "result = tree_node_labelling(tree, k)\n",
    "print(result)\n",
    "\n",
    "\n"
   ]
  }
 ],
 "metadata": {
  "kernelspec": {
   "display_name": "base",
   "language": "python",
   "name": "python3"
  },
  "language_info": {
   "codemirror_mode": {
    "name": "ipython",
    "version": 3
   },
   "file_extension": ".py",
   "mimetype": "text/x-python",
   "name": "python",
   "nbconvert_exporter": "python",
   "pygments_lexer": "ipython3",
   "version": "3.9.13"
  },
  "orig_nbformat": 4
 },
 "nbformat": 4,
 "nbformat_minor": 2
}
